{
 "cells": [
  {
   "cell_type": "code",
   "execution_count": null,
   "id": "0004db19",
   "metadata": {},
   "outputs": [],
   "source": [
    "import numpy as np\n",
    "\n",
    "xy = np.array([[1.,2.,3.,4.,5.,6.],\n",
    "               [10.,20.,30.,40.,50.,60.]])\n",
    "\n",
    "x_train = xy[0,0:6] #slicing을 사용 : 0행의 0열~5열\n",
    "y_train = xy[1,0:6] #               : 1행의 0열~5열\n",
    "\n",
    "print(x_train,x_train.shape)\n",
    "print(y_train,y_train.shape)"
   ]
  },
  {
   "cell_type": "code",
   "execution_count": null,
   "id": "6094b0a2",
   "metadata": {},
   "outputs": [],
   "source": []
  }
 ],
 "metadata": {
  "kernelspec": {
   "display_name": "Python 3 (ipykernel)",
   "language": "python",
   "name": "python3"
  },
  "language_info": {
   "codemirror_mode": {
    "name": "ipython",
    "version": 3
   },
   "file_extension": ".py",
   "mimetype": "text/x-python",
   "name": "python",
   "nbconvert_exporter": "python",
   "pygments_lexer": "ipython3",
   "version": "3.9.5"
  }
 },
 "nbformat": 4,
 "nbformat_minor": 5
}
