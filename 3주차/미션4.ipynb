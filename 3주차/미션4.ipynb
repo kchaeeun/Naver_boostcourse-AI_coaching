{
 "cells": [
  {
   "cell_type": "code",
   "execution_count": null,
   "id": "fd3ae0a4",
   "metadata": {},
   "outputs": [],
   "source": [
    "import numpy as np\n",
    "\n",
    "beta_gd = np.random.rand(1) #()안의 수는 랜덤 적용 시 출력될 난수의 개수를 의미\n",
    "bias = np.random.rand(1)\n",
    "\n",
    "print(beta_gd, bias) \n"
   ]
  },
  {
   "cell_type": "code",
   "execution_count": null,
   "id": "0d2eaf5f",
   "metadata": {},
   "outputs": [],
   "source": []
  }
 ],
 "metadata": {
  "kernelspec": {
   "display_name": "Python 3 (ipykernel)",
   "language": "python",
   "name": "python3"
  },
  "language_info": {
   "codemirror_mode": {
    "name": "ipython",
    "version": 3
   },
   "file_extension": ".py",
   "mimetype": "text/x-python",
   "name": "python",
   "nbconvert_exporter": "python",
   "pygments_lexer": "ipython3",
   "version": "3.9.5"
  }
 },
 "nbformat": 4,
 "nbformat_minor": 5
}
