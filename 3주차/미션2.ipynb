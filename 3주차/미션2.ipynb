{
 "cells": [
  {
   "cell_type": "code",
   "execution_count": null,
   "id": "71174f66",
   "metadata": {},
   "outputs": [],
   "source": [
    "import numpy as np\n",
    "arr1 = np.array([[5,7],[9,11]],float)\n",
    "arr2 = np.array([[2,4],[6,8]],float)\n",
    "\n",
    "\n",
    "concat_1=np.concatenate((arr1,arr2),axis=0)\n",
    "concat_2=np.concatenate((arr1,arr2),axis=1)\n",
    "\n",
    "print(concat_1)\n",
    "print(concat_2)"
   ]
  },
  {
   "cell_type": "code",
   "execution_count": null,
   "id": "ad38c367",
   "metadata": {},
   "outputs": [],
   "source": []
  }
 ],
 "metadata": {
  "kernelspec": {
   "display_name": "Python 3 (ipykernel)",
   "language": "python",
   "name": "python3"
  },
  "language_info": {
   "codemirror_mode": {
    "name": "ipython",
    "version": 3
   },
   "file_extension": ".py",
   "mimetype": "text/x-python",
   "name": "python",
   "nbconvert_exporter": "python",
   "pygments_lexer": "ipython3",
   "version": "3.9.5"
  }
 },
 "nbformat": 4,
 "nbformat_minor": 5
}
