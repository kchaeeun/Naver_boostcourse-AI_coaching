{
 "cells": [
  {
   "cell_type": "code",
   "execution_count": null,
   "id": "ca7775ab",
   "metadata": {},
   "outputs": [
    {
     "ename": "",
     "evalue": "",
     "output_type": "error",
     "traceback": [
      "\u001b[1;31mRunning cells with 'Python 3.9.5 ('base')' requires ipykernel package.\n",
      "Run the following command to install 'ipykernel' into the Python environment. \n",
      "Command: 'conda install -n base ipykernel --update-deps --force-reinstall'"
     ]
    }
   ],
   "source": [
    "import numpy as np\n",
    "\n",
    "xy = np.array([[1.,2.,3.,4.,5.,6.],\n",
    "               [3.,6.,9.,12.,15.,18.]])\n",
    "\n",
    "x_train = xy[0,0:6] #[1. 2. 3. 4. 5. 6.]\n",
    "y_train = xy[1,0:6] #[3. 6. 9. 12. 15. 18.]\n",
    "\n",
    "beta_gd = np.random.rand(1) #직선의 기울기\n",
    "bias = np.random.rand(1) #y절편\n",
    "\n",
    "learning_rate = 0.01\n",
    "\n",
    "for i in range(1000):\n",
    "    formula = (beta_gd * x_train) + bias #h(x)=ax+b\n",
    "    error =  ((formula -  y_train  )**2).mean() \n",
    "    #error=h(x)-y : 예측값h(x)(직선모델) - 실제값y(실제 데이터의 y값)\n",
    "    #cost function = mean square error((실제값-예측값)의 제곱을 평균낸값)\n",
    "    #최적의 선형회귀모델을 만들기 위해서는 cost function를 최소로 만드는 최적의 직선을 찾아야함\n",
    "    \n",
    "    \n",
    "    gd_w = (2 * (formula - y_train)* x_train).mean() \n",
    "    gd_b = (2 * (formula - y_train)* 1).mean()\n",
    "    #mean square error를 weight,bias로 편미분한 값\n",
    "    #편미분은 미분하는 변수 하나를 지정하고, 다른 변수는 상수로 둔다\n",
    "    \n",
    "    beta_gd -= learning_rate*gd_w\n",
    "    bias -= learning_rate*gd_b\n",
    " \n",
    "    if i%100==0:\n",
    "        print('Epoch ({:10d}/1000) error: {:10f}, beta_gd: {:10f}, bias :{:10f}'.format(i,error,beta_gd.item(), bias.item()))"
   ]
  },
  {
   "cell_type": "code",
   "execution_count": null,
   "id": "29c4daa3",
   "metadata": {},
   "outputs": [],
   "source": []
  },
  {
   "cell_type": "code",
   "execution_count": null,
   "id": "f0fdcde8",
   "metadata": {},
   "outputs": [],
   "source": []
  }
 ],
 "metadata": {
  "kernelspec": {
   "display_name": "Python 3 (ipykernel)",
   "language": "python",
   "name": "python3"
  },
  "language_info": {
   "codemirror_mode": {
    "name": "ipython",
    "version": 3
   },
   "file_extension": ".py",
   "mimetype": "text/x-python",
   "name": "python",
   "nbconvert_exporter": "python",
   "pygments_lexer": "ipython3",
   "version": "3.9.5"
  }
 },
 "nbformat": 4,
 "nbformat_minor": 5
}
